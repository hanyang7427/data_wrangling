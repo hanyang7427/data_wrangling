{
 "cells": [
  {
   "cell_type": "markdown",
   "metadata": {},
   "source": [
    "# twitter数据集整理与分析\n",
    "## 收集"
   ]
  },
  {
   "cell_type": "code",
   "execution_count": 1,
   "metadata": {},
   "outputs": [],
   "source": [
    "# 导入需要的库\n",
    "import numpy as np\n",
    "import pandas as pd\n",
    "import requests\n",
    "import json\n",
    "import re\n",
    "import matplotlib.pyplot as plt\n",
    "%matplotlib inline"
   ]
  },
  {
   "cell_type": "code",
   "execution_count": 2,
   "metadata": {},
   "outputs": [],
   "source": [
    "# twitter帖子数据\n",
    "df_twitter_archive = pd.read_csv('twitter-archive-enhanced.csv')"
   ]
  },
  {
   "cell_type": "code",
   "execution_count": 3,
   "metadata": {},
   "outputs": [],
   "source": [
    "# df_image_predictions 预测品种数据\n",
    "url_image_predictions = 'https://raw.githubusercontent.com/udacity/new-dand-advanced-china/master/%E6%95%B0%E6%8D%AE%E6%B8%85%E6%B4%97/WeRateDogs%E9%A1%B9%E7%9B%AE/image-predictions.tsv'\n",
    "r = requests.get(url_image_predictions)\n",
    "with open('image_predictions.tsv','wb') as f:\n",
    "    f.write(r.content)"
   ]
  },
  {
   "cell_type": "code",
   "execution_count": 4,
   "metadata": {},
   "outputs": [],
   "source": [
    "df_image_predictions = pd.read_csv('image_predictions.tsv', sep='\\t')"
   ]
  },
  {
   "cell_type": "code",
   "execution_count": 5,
   "metadata": {},
   "outputs": [],
   "source": [
    "# 点赞和转发数据\n",
    "url_tweet_json = 'https://raw.githubusercontent.com/udacity/new-dand-advanced-china/master/%E6%95%B0%E6%8D%AE%E6%B8%85%E6%B4%97/WeRateDogs%E9%A1%B9%E7%9B%AE/tweet_json.txt'\n",
    "r = requests.get(url_tweet_json)\n",
    "with open('tweet_json.txt', 'wb') as f:\n",
    "    f.write(r.content)"
   ]
  },
  {
   "cell_type": "code",
   "execution_count": 6,
   "metadata": {},
   "outputs": [
    {
     "name": "stderr",
     "output_type": "stream",
     "text": [
      "/opt/conda/lib/python3.6/site-packages/ipykernel_launcher.py:8: FutureWarning: Sorting because non-concatenation axis is not aligned. A future version\n",
      "of pandas will change to not sort by default.\n",
      "\n",
      "To accept the future behavior, pass 'sort=False'.\n",
      "\n",
      "To retain the current behavior and silence the warning, pass 'sort=True'.\n",
      "\n",
      "  \n"
     ]
    }
   ],
   "source": [
    "df_tweet_json = pd.DataFrame(columns=['id','retweet_count','favorite_count'])\n",
    "with open('tweet_json.txt') as f:\n",
    "    for i in f:\n",
    "        d = json.loads(i)\n",
    "        df = pd.DataFrame([{'id': d['id'],\n",
    "                            'retweet_count' : d['retweet_count'],\n",
    "                            'favorite_count': d['favorite_count']}])\n",
    "        df_tweet_json = pd.concat([df_tweet_json, df], ignore_index=True)"
   ]
  },
  {
   "cell_type": "markdown",
   "metadata": {},
   "source": [
    "## 评估\n",
    "### 目测评估"
   ]
  },
  {
   "cell_type": "code",
   "execution_count": 7,
   "metadata": {},
   "outputs": [
    {
     "data": {
      "text/html": [
       "<div>\n",
       "<style scoped>\n",
       "    .dataframe tbody tr th:only-of-type {\n",
       "        vertical-align: middle;\n",
       "    }\n",
       "\n",
       "    .dataframe tbody tr th {\n",
       "        vertical-align: top;\n",
       "    }\n",
       "\n",
       "    .dataframe thead th {\n",
       "        text-align: right;\n",
       "    }\n",
       "</style>\n",
       "<table border=\"1\" class=\"dataframe\">\n",
       "  <thead>\n",
       "    <tr style=\"text-align: right;\">\n",
       "      <th></th>\n",
       "      <th>tweet_id</th>\n",
       "      <th>in_reply_to_status_id</th>\n",
       "      <th>in_reply_to_user_id</th>\n",
       "      <th>timestamp</th>\n",
       "      <th>source</th>\n",
       "      <th>text</th>\n",
       "      <th>retweeted_status_id</th>\n",
       "      <th>retweeted_status_user_id</th>\n",
       "      <th>retweeted_status_timestamp</th>\n",
       "      <th>expanded_urls</th>\n",
       "      <th>rating_numerator</th>\n",
       "      <th>rating_denominator</th>\n",
       "      <th>name</th>\n",
       "      <th>doggo</th>\n",
       "      <th>floofer</th>\n",
       "      <th>pupper</th>\n",
       "      <th>puppo</th>\n",
       "    </tr>\n",
       "  </thead>\n",
       "  <tbody>\n",
       "    <tr>\n",
       "      <th>1923</th>\n",
       "      <td>674082852460433408</td>\n",
       "      <td>NaN</td>\n",
       "      <td>NaN</td>\n",
       "      <td>2015-12-08 04:27:30 +0000</td>\n",
       "      <td>&lt;a href=\"http://twitter.com/download/iphone\" r...</td>\n",
       "      <td>This is a Sagitariot Baklava mix. Loves her ne...</td>\n",
       "      <td>NaN</td>\n",
       "      <td>NaN</td>\n",
       "      <td>NaN</td>\n",
       "      <td>https://twitter.com/dog_rates/status/674082852...</td>\n",
       "      <td>11</td>\n",
       "      <td>10</td>\n",
       "      <td>a</td>\n",
       "      <td>None</td>\n",
       "      <td>None</td>\n",
       "      <td>None</td>\n",
       "      <td>None</td>\n",
       "    </tr>\n",
       "    <tr>\n",
       "      <th>1572</th>\n",
       "      <td>687664829264453632</td>\n",
       "      <td>NaN</td>\n",
       "      <td>NaN</td>\n",
       "      <td>2016-01-14 15:57:26 +0000</td>\n",
       "      <td>&lt;a href=\"http://twitter.com/download/iphone\" r...</td>\n",
       "      <td>Meet Opal. He's a Belgian Dijon Poofster. Upse...</td>\n",
       "      <td>NaN</td>\n",
       "      <td>NaN</td>\n",
       "      <td>NaN</td>\n",
       "      <td>https://twitter.com/dog_rates/status/687664829...</td>\n",
       "      <td>11</td>\n",
       "      <td>10</td>\n",
       "      <td>Opal</td>\n",
       "      <td>None</td>\n",
       "      <td>None</td>\n",
       "      <td>None</td>\n",
       "      <td>None</td>\n",
       "    </tr>\n",
       "    <tr>\n",
       "      <th>597</th>\n",
       "      <td>798694562394996736</td>\n",
       "      <td>NaN</td>\n",
       "      <td>NaN</td>\n",
       "      <td>2016-11-16 01:09:57 +0000</td>\n",
       "      <td>&lt;a href=\"http://twitter.com/download/iphone\" r...</td>\n",
       "      <td>RT @dog_rates: I'm not sure what's happening h...</td>\n",
       "      <td>7.012147e+17</td>\n",
       "      <td>4.196984e+09</td>\n",
       "      <td>2016-02-21 01:19:47 +0000</td>\n",
       "      <td>https://twitter.com/dog_rates/status/701214700...</td>\n",
       "      <td>12</td>\n",
       "      <td>10</td>\n",
       "      <td>None</td>\n",
       "      <td>None</td>\n",
       "      <td>None</td>\n",
       "      <td>None</td>\n",
       "      <td>None</td>\n",
       "    </tr>\n",
       "    <tr>\n",
       "      <th>1191</th>\n",
       "      <td>717841801130979328</td>\n",
       "      <td>NaN</td>\n",
       "      <td>NaN</td>\n",
       "      <td>2016-04-06 22:29:56 +0000</td>\n",
       "      <td>&lt;a href=\"http://twitter.com/download/iphone\" r...</td>\n",
       "      <td>This is Barclay. His father was a banana. 11/1...</td>\n",
       "      <td>NaN</td>\n",
       "      <td>NaN</td>\n",
       "      <td>NaN</td>\n",
       "      <td>https://twitter.com/dog_rates/status/717841801...</td>\n",
       "      <td>11</td>\n",
       "      <td>10</td>\n",
       "      <td>Barclay</td>\n",
       "      <td>None</td>\n",
       "      <td>None</td>\n",
       "      <td>None</td>\n",
       "      <td>None</td>\n",
       "    </tr>\n",
       "    <tr>\n",
       "      <th>2108</th>\n",
       "      <td>670452855871037440</td>\n",
       "      <td>NaN</td>\n",
       "      <td>NaN</td>\n",
       "      <td>2015-11-28 04:03:11 +0000</td>\n",
       "      <td>&lt;a href=\"http://twitter.com/download/iphone\" r...</td>\n",
       "      <td>This dog can't see its haters. 11/10 https://t...</td>\n",
       "      <td>NaN</td>\n",
       "      <td>NaN</td>\n",
       "      <td>NaN</td>\n",
       "      <td>https://twitter.com/dog_rates/status/670452855...</td>\n",
       "      <td>11</td>\n",
       "      <td>10</td>\n",
       "      <td>None</td>\n",
       "      <td>None</td>\n",
       "      <td>None</td>\n",
       "      <td>None</td>\n",
       "      <td>None</td>\n",
       "    </tr>\n",
       "  </tbody>\n",
       "</table>\n",
       "</div>"
      ],
      "text/plain": [
       "                tweet_id  in_reply_to_status_id  in_reply_to_user_id  \\\n",
       "1923  674082852460433408                    NaN                  NaN   \n",
       "1572  687664829264453632                    NaN                  NaN   \n",
       "597   798694562394996736                    NaN                  NaN   \n",
       "1191  717841801130979328                    NaN                  NaN   \n",
       "2108  670452855871037440                    NaN                  NaN   \n",
       "\n",
       "                      timestamp  \\\n",
       "1923  2015-12-08 04:27:30 +0000   \n",
       "1572  2016-01-14 15:57:26 +0000   \n",
       "597   2016-11-16 01:09:57 +0000   \n",
       "1191  2016-04-06 22:29:56 +0000   \n",
       "2108  2015-11-28 04:03:11 +0000   \n",
       "\n",
       "                                                 source  \\\n",
       "1923  <a href=\"http://twitter.com/download/iphone\" r...   \n",
       "1572  <a href=\"http://twitter.com/download/iphone\" r...   \n",
       "597   <a href=\"http://twitter.com/download/iphone\" r...   \n",
       "1191  <a href=\"http://twitter.com/download/iphone\" r...   \n",
       "2108  <a href=\"http://twitter.com/download/iphone\" r...   \n",
       "\n",
       "                                                   text  retweeted_status_id  \\\n",
       "1923  This is a Sagitariot Baklava mix. Loves her ne...                  NaN   \n",
       "1572  Meet Opal. He's a Belgian Dijon Poofster. Upse...                  NaN   \n",
       "597   RT @dog_rates: I'm not sure what's happening h...         7.012147e+17   \n",
       "1191  This is Barclay. His father was a banana. 11/1...                  NaN   \n",
       "2108  This dog can't see its haters. 11/10 https://t...                  NaN   \n",
       "\n",
       "      retweeted_status_user_id retweeted_status_timestamp  \\\n",
       "1923                       NaN                        NaN   \n",
       "1572                       NaN                        NaN   \n",
       "597               4.196984e+09  2016-02-21 01:19:47 +0000   \n",
       "1191                       NaN                        NaN   \n",
       "2108                       NaN                        NaN   \n",
       "\n",
       "                                          expanded_urls  rating_numerator  \\\n",
       "1923  https://twitter.com/dog_rates/status/674082852...                11   \n",
       "1572  https://twitter.com/dog_rates/status/687664829...                11   \n",
       "597   https://twitter.com/dog_rates/status/701214700...                12   \n",
       "1191  https://twitter.com/dog_rates/status/717841801...                11   \n",
       "2108  https://twitter.com/dog_rates/status/670452855...                11   \n",
       "\n",
       "      rating_denominator     name doggo floofer pupper puppo  \n",
       "1923                  10        a  None    None   None  None  \n",
       "1572                  10     Opal  None    None   None  None  \n",
       "597                   10     None  None    None   None  None  \n",
       "1191                  10  Barclay  None    None   None  None  \n",
       "2108                  10     None  None    None   None  None  "
      ]
     },
     "execution_count": 7,
     "metadata": {},
     "output_type": "execute_result"
    }
   ],
   "source": [
    "# 目测评估三个数据集\n",
    "df_twitter_archive.sample(5)"
   ]
  },
  {
   "cell_type": "code",
   "execution_count": 8,
   "metadata": {},
   "outputs": [
    {
     "data": {
      "text/html": [
       "<div>\n",
       "<style scoped>\n",
       "    .dataframe tbody tr th:only-of-type {\n",
       "        vertical-align: middle;\n",
       "    }\n",
       "\n",
       "    .dataframe tbody tr th {\n",
       "        vertical-align: top;\n",
       "    }\n",
       "\n",
       "    .dataframe thead th {\n",
       "        text-align: right;\n",
       "    }\n",
       "</style>\n",
       "<table border=\"1\" class=\"dataframe\">\n",
       "  <thead>\n",
       "    <tr style=\"text-align: right;\">\n",
       "      <th></th>\n",
       "      <th>tweet_id</th>\n",
       "      <th>jpg_url</th>\n",
       "      <th>img_num</th>\n",
       "      <th>p1</th>\n",
       "      <th>p1_conf</th>\n",
       "      <th>p1_dog</th>\n",
       "      <th>p2</th>\n",
       "      <th>p2_conf</th>\n",
       "      <th>p2_dog</th>\n",
       "      <th>p3</th>\n",
       "      <th>p3_conf</th>\n",
       "      <th>p3_dog</th>\n",
       "    </tr>\n",
       "  </thead>\n",
       "  <tbody>\n",
       "    <tr>\n",
       "      <th>1522</th>\n",
       "      <td>788070120937619456</td>\n",
       "      <td>https://pbs.twimg.com/media/Co-hmcYXYAASkiG.jpg</td>\n",
       "      <td>1</td>\n",
       "      <td>golden_retriever</td>\n",
       "      <td>0.735163</td>\n",
       "      <td>True</td>\n",
       "      <td>Sussex_spaniel</td>\n",
       "      <td>0.064897</td>\n",
       "      <td>True</td>\n",
       "      <td>Labrador_retriever</td>\n",
       "      <td>0.047704</td>\n",
       "      <td>True</td>\n",
       "    </tr>\n",
       "    <tr>\n",
       "      <th>189</th>\n",
       "      <td>669375718304980992</td>\n",
       "      <td>https://pbs.twimg.com/media/CUoZqaqWcAAA2MQ.jpg</td>\n",
       "      <td>1</td>\n",
       "      <td>Airedale</td>\n",
       "      <td>0.168762</td>\n",
       "      <td>True</td>\n",
       "      <td>Norfolk_terrier</td>\n",
       "      <td>0.107479</td>\n",
       "      <td>True</td>\n",
       "      <td>Lakeland_terrier</td>\n",
       "      <td>0.097846</td>\n",
       "      <td>True</td>\n",
       "    </tr>\n",
       "    <tr>\n",
       "      <th>1741</th>\n",
       "      <td>822610361945911296</td>\n",
       "      <td>https://pbs.twimg.com/media/C2p_wQyXEAELtvS.jpg</td>\n",
       "      <td>1</td>\n",
       "      <td>cocker_spaniel</td>\n",
       "      <td>0.664487</td>\n",
       "      <td>True</td>\n",
       "      <td>Norfolk_terrier</td>\n",
       "      <td>0.075089</td>\n",
       "      <td>True</td>\n",
       "      <td>Norwich_terrier</td>\n",
       "      <td>0.059644</td>\n",
       "      <td>True</td>\n",
       "    </tr>\n",
       "    <tr>\n",
       "      <th>819</th>\n",
       "      <td>692905862751522816</td>\n",
       "      <td>https://pbs.twimg.com/media/CZ2yNKhWEAA_7cb.jpg</td>\n",
       "      <td>1</td>\n",
       "      <td>Mexican_hairless</td>\n",
       "      <td>0.162638</td>\n",
       "      <td>True</td>\n",
       "      <td>Doberman</td>\n",
       "      <td>0.156287</td>\n",
       "      <td>True</td>\n",
       "      <td>Rhodesian_ridgeback</td>\n",
       "      <td>0.081478</td>\n",
       "      <td>True</td>\n",
       "    </tr>\n",
       "    <tr>\n",
       "      <th>412</th>\n",
       "      <td>673919437611909120</td>\n",
       "      <td>https://pbs.twimg.com/media/CVo-JuMWwAAet6F.jpg</td>\n",
       "      <td>1</td>\n",
       "      <td>jack-o'-lantern</td>\n",
       "      <td>0.172079</td>\n",
       "      <td>False</td>\n",
       "      <td>schipperke</td>\n",
       "      <td>0.115984</td>\n",
       "      <td>True</td>\n",
       "      <td>miniature_pinscher</td>\n",
       "      <td>0.052175</td>\n",
       "      <td>True</td>\n",
       "    </tr>\n",
       "  </tbody>\n",
       "</table>\n",
       "</div>"
      ],
      "text/plain": [
       "                tweet_id                                          jpg_url  \\\n",
       "1522  788070120937619456  https://pbs.twimg.com/media/Co-hmcYXYAASkiG.jpg   \n",
       "189   669375718304980992  https://pbs.twimg.com/media/CUoZqaqWcAAA2MQ.jpg   \n",
       "1741  822610361945911296  https://pbs.twimg.com/media/C2p_wQyXEAELtvS.jpg   \n",
       "819   692905862751522816  https://pbs.twimg.com/media/CZ2yNKhWEAA_7cb.jpg   \n",
       "412   673919437611909120  https://pbs.twimg.com/media/CVo-JuMWwAAet6F.jpg   \n",
       "\n",
       "      img_num                p1   p1_conf  p1_dog               p2   p2_conf  \\\n",
       "1522        1  golden_retriever  0.735163    True   Sussex_spaniel  0.064897   \n",
       "189         1          Airedale  0.168762    True  Norfolk_terrier  0.107479   \n",
       "1741        1    cocker_spaniel  0.664487    True  Norfolk_terrier  0.075089   \n",
       "819         1  Mexican_hairless  0.162638    True         Doberman  0.156287   \n",
       "412         1   jack-o'-lantern  0.172079   False       schipperke  0.115984   \n",
       "\n",
       "      p2_dog                   p3   p3_conf  p3_dog  \n",
       "1522    True   Labrador_retriever  0.047704    True  \n",
       "189     True     Lakeland_terrier  0.097846    True  \n",
       "1741    True      Norwich_terrier  0.059644    True  \n",
       "819     True  Rhodesian_ridgeback  0.081478    True  \n",
       "412     True   miniature_pinscher  0.052175    True  "
      ]
     },
     "execution_count": 8,
     "metadata": {},
     "output_type": "execute_result"
    }
   ],
   "source": [
    "df_image_predictions.sample(5)"
   ]
  },
  {
   "cell_type": "code",
   "execution_count": 9,
   "metadata": {},
   "outputs": [
    {
     "data": {
      "text/html": [
       "<div>\n",
       "<style scoped>\n",
       "    .dataframe tbody tr th:only-of-type {\n",
       "        vertical-align: middle;\n",
       "    }\n",
       "\n",
       "    .dataframe tbody tr th {\n",
       "        vertical-align: top;\n",
       "    }\n",
       "\n",
       "    .dataframe thead th {\n",
       "        text-align: right;\n",
       "    }\n",
       "</style>\n",
       "<table border=\"1\" class=\"dataframe\">\n",
       "  <thead>\n",
       "    <tr style=\"text-align: right;\">\n",
       "      <th></th>\n",
       "      <th>favorite_count</th>\n",
       "      <th>id</th>\n",
       "      <th>retweet_count</th>\n",
       "    </tr>\n",
       "  </thead>\n",
       "  <tbody>\n",
       "    <tr>\n",
       "      <th>362</th>\n",
       "      <td>58067</td>\n",
       "      <td>829011960981237760</td>\n",
       "      <td>18527</td>\n",
       "    </tr>\n",
       "    <tr>\n",
       "      <th>656</th>\n",
       "      <td>14627</td>\n",
       "      <td>791406955684368384</td>\n",
       "      <td>4774</td>\n",
       "    </tr>\n",
       "    <tr>\n",
       "      <th>1642</th>\n",
       "      <td>2865</td>\n",
       "      <td>683834909291606017</td>\n",
       "      <td>1256</td>\n",
       "    </tr>\n",
       "    <tr>\n",
       "      <th>1053</th>\n",
       "      <td>5624</td>\n",
       "      <td>742150209887731712</td>\n",
       "      <td>1771</td>\n",
       "    </tr>\n",
       "    <tr>\n",
       "      <th>1318</th>\n",
       "      <td>1850</td>\n",
       "      <td>706291001778950144</td>\n",
       "      <td>521</td>\n",
       "    </tr>\n",
       "  </tbody>\n",
       "</table>\n",
       "</div>"
      ],
      "text/plain": [
       "     favorite_count                  id retweet_count\n",
       "362           58067  829011960981237760         18527\n",
       "656           14627  791406955684368384          4774\n",
       "1642           2865  683834909291606017          1256\n",
       "1053           5624  742150209887731712          1771\n",
       "1318           1850  706291001778950144           521"
      ]
     },
     "execution_count": 9,
     "metadata": {},
     "output_type": "execute_result"
    }
   ],
   "source": [
    "df_tweet_json.sample(5)"
   ]
  },
  {
   "cell_type": "markdown",
   "metadata": {},
   "source": [
    "### 编程评估"
   ]
  },
  {
   "cell_type": "code",
   "execution_count": 10,
   "metadata": {},
   "outputs": [
    {
     "name": "stdout",
     "output_type": "stream",
     "text": [
      "<class 'pandas.core.frame.DataFrame'>\n",
      "RangeIndex: 2356 entries, 0 to 2355\n",
      "Data columns (total 17 columns):\n",
      "tweet_id                      2356 non-null int64\n",
      "in_reply_to_status_id         78 non-null float64\n",
      "in_reply_to_user_id           78 non-null float64\n",
      "timestamp                     2356 non-null object\n",
      "source                        2356 non-null object\n",
      "text                          2356 non-null object\n",
      "retweeted_status_id           181 non-null float64\n",
      "retweeted_status_user_id      181 non-null float64\n",
      "retweeted_status_timestamp    181 non-null object\n",
      "expanded_urls                 2297 non-null object\n",
      "rating_numerator              2356 non-null int64\n",
      "rating_denominator            2356 non-null int64\n",
      "name                          2356 non-null object\n",
      "doggo                         2356 non-null object\n",
      "floofer                       2356 non-null object\n",
      "pupper                        2356 non-null object\n",
      "puppo                         2356 non-null object\n",
      "dtypes: float64(4), int64(3), object(10)\n",
      "memory usage: 313.0+ KB\n"
     ]
    }
   ],
   "source": [
    "# 使用 pandas 的各种方法评估三个数据集，比如 info value_counts 等\n",
    "df_twitter_archive.info()"
   ]
  },
  {
   "cell_type": "code",
   "execution_count": 11,
   "metadata": {},
   "outputs": [
    {
     "name": "stdout",
     "output_type": "stream",
     "text": [
      "<class 'pandas.core.frame.DataFrame'>\n",
      "RangeIndex: 2075 entries, 0 to 2074\n",
      "Data columns (total 12 columns):\n",
      "tweet_id    2075 non-null int64\n",
      "jpg_url     2075 non-null object\n",
      "img_num     2075 non-null int64\n",
      "p1          2075 non-null object\n",
      "p1_conf     2075 non-null float64\n",
      "p1_dog      2075 non-null bool\n",
      "p2          2075 non-null object\n",
      "p2_conf     2075 non-null float64\n",
      "p2_dog      2075 non-null bool\n",
      "p3          2075 non-null object\n",
      "p3_conf     2075 non-null float64\n",
      "p3_dog      2075 non-null bool\n",
      "dtypes: bool(3), float64(3), int64(2), object(4)\n",
      "memory usage: 152.1+ KB\n"
     ]
    }
   ],
   "source": [
    "df_image_predictions.info()"
   ]
  },
  {
   "cell_type": "code",
   "execution_count": 12,
   "metadata": {},
   "outputs": [
    {
     "name": "stdout",
     "output_type": "stream",
     "text": [
      "<class 'pandas.core.frame.DataFrame'>\n",
      "RangeIndex: 2352 entries, 0 to 2351\n",
      "Data columns (total 3 columns):\n",
      "favorite_count    2352 non-null object\n",
      "id                2352 non-null object\n",
      "retweet_count     2352 non-null object\n",
      "dtypes: object(3)\n",
      "memory usage: 55.2+ KB\n"
     ]
    }
   ],
   "source": [
    "df_tweet_json.info()"
   ]
  },
  {
   "cell_type": "code",
   "execution_count": 13,
   "metadata": {},
   "outputs": [
    {
     "data": {
      "text/html": [
       "<div>\n",
       "<style scoped>\n",
       "    .dataframe tbody tr th:only-of-type {\n",
       "        vertical-align: middle;\n",
       "    }\n",
       "\n",
       "    .dataframe tbody tr th {\n",
       "        vertical-align: top;\n",
       "    }\n",
       "\n",
       "    .dataframe thead th {\n",
       "        text-align: right;\n",
       "    }\n",
       "</style>\n",
       "<table border=\"1\" class=\"dataframe\">\n",
       "  <thead>\n",
       "    <tr style=\"text-align: right;\">\n",
       "      <th></th>\n",
       "      <th>tweet_id</th>\n",
       "      <th>rating_numerator</th>\n",
       "      <th>rating_denominator</th>\n",
       "    </tr>\n",
       "  </thead>\n",
       "  <tbody>\n",
       "    <tr>\n",
       "      <th>45</th>\n",
       "      <td>883482846933004288</td>\n",
       "      <td>5</td>\n",
       "      <td>10</td>\n",
       "    </tr>\n",
       "  </tbody>\n",
       "</table>\n",
       "</div>"
      ],
      "text/plain": [
       "              tweet_id  rating_numerator  rating_denominator\n",
       "45  883482846933004288                 5                  10"
      ]
     },
     "execution_count": 13,
     "metadata": {},
     "output_type": "execute_result"
    }
   ],
   "source": [
    "# tweet_id是883482846933004288的记录，text中rating_numerator是13.5，记录中是5\n",
    "df_twitter_archive[df_twitter_archive['tweet_id'] == 883482846933004288].loc[:,['tweet_id','rating_numerator','rating_denominator']]"
   ]
  },
  {
   "cell_type": "code",
   "execution_count": 14,
   "metadata": {},
   "outputs": [
    {
     "data": {
      "text/plain": [
       "'This is Bella. She hopes her smile made you smile. If not, she is also offering you her favorite monkey. 13.5/10 https://t.co/qjrljjt948'"
      ]
     },
     "execution_count": 14,
     "metadata": {},
     "output_type": "execute_result"
    }
   ],
   "source": [
    "# tweet_id是883482846933004288的记录，text中rating_numerator是13.5，记录中是5\n",
    "df_twitter_archive[df_twitter_archive['tweet_id'] == 883482846933004288]['text'].iloc[0]"
   ]
  },
  {
   "cell_type": "code",
   "execution_count": 15,
   "metadata": {},
   "outputs": [
    {
     "data": {
      "text/html": [
       "<div>\n",
       "<style scoped>\n",
       "    .dataframe tbody tr th:only-of-type {\n",
       "        vertical-align: middle;\n",
       "    }\n",
       "\n",
       "    .dataframe tbody tr th {\n",
       "        vertical-align: top;\n",
       "    }\n",
       "\n",
       "    .dataframe thead th {\n",
       "        text-align: right;\n",
       "    }\n",
       "</style>\n",
       "<table border=\"1\" class=\"dataframe\">\n",
       "  <thead>\n",
       "    <tr style=\"text-align: right;\">\n",
       "      <th></th>\n",
       "      <th>tweet_id</th>\n",
       "      <th>doggo</th>\n",
       "      <th>floofer</th>\n",
       "      <th>pupper</th>\n",
       "      <th>puppo</th>\n",
       "    </tr>\n",
       "  </thead>\n",
       "  <tbody>\n",
       "    <tr>\n",
       "      <th>9</th>\n",
       "      <td>890240255349198849</td>\n",
       "      <td>doggo</td>\n",
       "      <td>None</td>\n",
       "      <td>None</td>\n",
       "      <td>None</td>\n",
       "    </tr>\n",
       "  </tbody>\n",
       "</table>\n",
       "</div>"
      ],
      "text/plain": [
       "             tweet_id  doggo floofer pupper puppo\n",
       "9  890240255349198849  doggo    None   None  None"
      ]
     },
     "execution_count": 15,
     "metadata": {},
     "output_type": "execute_result"
    }
   ],
   "source": [
    "# tweet_id是890240255349198849的帖子，stage是pupper，数据记录的是doggo\n",
    "df_twitter_archive[df_twitter_archive['tweet_id'] == 890240255349198849].loc[:,['tweet_id','doggo','floofer','pupper','puppo']]"
   ]
  },
  {
   "cell_type": "code",
   "execution_count": 16,
   "metadata": {},
   "outputs": [
    {
     "data": {
      "text/plain": [
       "'This is Cassie. She is a college pup. Studying international doggo communication and stick theory. 14/10 so elegant much sophisticate https://t.co/t1bfwz5S2A'"
      ]
     },
     "execution_count": 16,
     "metadata": {},
     "output_type": "execute_result"
    }
   ],
   "source": [
    "# tweet_id是890240255349198849的帖子，stage是pupper，数据记录的是doggo\n",
    "df_twitter_archive[df_twitter_archive['tweet_id'] == 890240255349198849]['text'].iloc[0]"
   ]
  },
  {
   "cell_type": "code",
   "execution_count": 17,
   "metadata": {},
   "outputs": [
    {
     "data": {
      "text/plain": [
       "Index(['Ziva', 'Zoe', 'Zoey', 'Zooey', 'Zuzu', 'a', 'actually', 'all', 'an',\n",
       "       'by', 'getting', 'his', 'incredibly', 'infuriating', 'just', 'life',\n",
       "       'light', 'mad', 'my', 'not', 'officially', 'old', 'one', 'quite',\n",
       "       'space', 'such', 'the', 'this', 'unacceptable', 'very'],\n",
       "      dtype='object')"
      ]
     },
     "execution_count": 17,
     "metadata": {},
     "output_type": "execute_result"
    }
   ],
   "source": [
    "# name 有不正确的\n",
    "df_twitter_archive['name'].value_counts().index.sort_values()[-30:]"
   ]
  },
  {
   "cell_type": "markdown",
   "metadata": {},
   "source": [
    "#### 质量\n",
    "##### `df_twitter_archive` 表格\n",
    "- 转发的的数据需要删除(项目要求数据只使用有图片的原始tweets)\n",
    "- 没有图片的数据需要删除(项目要求数据只使用有图片的原始tweets)\n",
    "- tweet_id是883482846933004288的记录，text中rating_numerator是13.5，记录中是5\n",
    "- tweet_id是890240255349198849的记录，stage是pup，数据记录的是doggo\n",
    "- 表格数据读取问题：in_reply_to_status_id，in_reply_to_user_id应该是int，timestamp应该是datetime\n",
    "\n",
    "##### `df_image_predictions` 表格\n",
    "- 无\n",
    "\n",
    "##### `df_tweet_json` 表格\n",
    "- 表格数据读取问题：favorite_count，retweet_count，id应该是int类型\n",
    "\n",
    "#### 整洁问题\n",
    "- 三个表都是关于评分的，应该合并成一个表格\n",
    "- `df_twitter_archive`表doggo，floofer，pupper，puppo都是stage，应该属于一列\n",
    "\n",
    "\n",
    "\n",
    "## 清理"
   ]
  },
  {
   "cell_type": "code",
   "execution_count": 18,
   "metadata": {},
   "outputs": [],
   "source": [
    "# 备份三个数据集\n",
    "df_twitter_archive_clean = df_twitter_archive.copy()\n",
    "df_image_predictions_clean = df_image_predictions.copy()\n",
    "df_tweet_json_clean = df_tweet_json.copy()"
   ]
  },
  {
   "cell_type": "markdown",
   "metadata": {},
   "source": [
    "#### 质量问题\n",
    "##### `df_twitter_archive` 表格\n",
    "- 转发的的数据需要删除<font color=#0099ff>(项目要求数据只使用有图片的原始tweets)</font>\n",
    "\n",
    "##### 定义\n",
    "`df_image_predictions`中的帖子都有图片，使用inner join 合并tweet_id相同的记录\n",
    "\n",
    "##### 代码"
   ]
  },
  {
   "cell_type": "code",
   "execution_count": 19,
   "metadata": {},
   "outputs": [],
   "source": [
    "# 合并df_image_predictions_clean和df_twitter_archive_clean，保留两者都有的tweet_id\n",
    "df_twitter_archive_clean = pd.merge(df_twitter_archive_clean, df_image_predictions_clean, on='tweet_id', how='inner')"
   ]
  },
  {
   "cell_type": "markdown",
   "metadata": {},
   "source": [
    "##### 测试"
   ]
  },
  {
   "cell_type": "code",
   "execution_count": 20,
   "metadata": {},
   "outputs": [
    {
     "data": {
      "text/plain": [
       "0"
      ]
     },
     "execution_count": 20,
     "metadata": {},
     "output_type": "execute_result"
    }
   ],
   "source": [
    "# df_twitter_archive_clean中所有的的tweet_id都在df_image_predictions_clean中\n",
    "(~df_twitter_archive_clean['tweet_id'].isin(df_image_predictions_clean['tweet_id'])).sum()"
   ]
  },
  {
   "cell_type": "markdown",
   "metadata": {},
   "source": [
    "#### 质量问题\n",
    "##### `df_twitter_archive` 表格\n",
    "- 转发的的数据需要删除<font color=#0099ff>(项目要求数据只使用有图片的原始tweets)</font>\n",
    "\n",
    "##### 定义\n",
    "- `df_twitter_archive`的text列中开头包含'RT @'的记录是转发，删除这些记录\n",
    "- 此处执行完成后，就已经将`df_image_predictions`表合并到`df_twitter_archive`了\n",
    "\n",
    "##### 代码"
   ]
  },
  {
   "cell_type": "code",
   "execution_count": 21,
   "metadata": {},
   "outputs": [],
   "source": [
    "# 使用正则匹配开头是RT @的行，删除这些行\n",
    "df_twitter_archive_clean = df_twitter_archive_clean[df_twitter_archive_clean['text'].apply(lambda x:False if re.match(r'^RT @', x) else True)]"
   ]
  },
  {
   "cell_type": "markdown",
   "metadata": {},
   "source": [
    "##### 测试"
   ]
  },
  {
   "cell_type": "code",
   "execution_count": 22,
   "metadata": {},
   "outputs": [
    {
     "data": {
      "text/plain": [
       "0"
      ]
     },
     "execution_count": 22,
     "metadata": {},
     "output_type": "execute_result"
    }
   ],
   "source": [
    "(~df_twitter_archive_clean['retweeted_status_id'].isnull()).sum()"
   ]
  },
  {
   "cell_type": "code",
   "execution_count": 23,
   "metadata": {},
   "outputs": [
    {
     "data": {
      "text/plain": [
       "41    10\n",
       "Name: rating_denominator, dtype: int64"
      ]
     },
     "execution_count": 23,
     "metadata": {},
     "output_type": "execute_result"
    }
   ],
   "source": [
    "df_twitter_archive_clean[df_twitter_archive_clean['tweet_id'] == 883482846933004288]['rating_denominator']"
   ]
  },
  {
   "cell_type": "markdown",
   "metadata": {},
   "source": [
    "#### 质量问题\n",
    "##### `df_twitter_archive_clean` 表格\n",
    "- tweet_id是883482846933004288的记录，text中rating_numerator是13.5，记录中是5\n",
    "\n",
    "##### 定义\n",
    "- 为了准确，rating_numerator，rating_denominator在text中提取，删除原来的rating_numerator，rating_denominator\n",
    "\n",
    "##### 代码"
   ]
  },
  {
   "cell_type": "code",
   "execution_count": 24,
   "metadata": {},
   "outputs": [],
   "source": [
    "# 从text中提取分子和分母保存到新列，删除原来的分子分布列\n",
    "rating = df_twitter_archive_clean['text'].str.extract('((?:\\d+\\.)?\\d+)\\/(\\d+)', expand=True)\n",
    "rating.columns = ['rating_numerator', 'rating_denominator']\n",
    "rating['rating_numerator'] = rating['rating_numerator'].astype(float)\n",
    "rating['rating_denominator'] = rating['rating_denominator'].astype(float)\n",
    "df_twitter_archive_clean = df_twitter_archive_clean.drop(['rating_numerator','rating_denominator'],axis=1)\n",
    "df_twitter_archive_clean = pd.concat([df_twitter_archive_clean, rating], axis=1)"
   ]
  },
  {
   "cell_type": "markdown",
   "metadata": {},
   "source": [
    "##### 测试"
   ]
  },
  {
   "cell_type": "code",
   "execution_count": 25,
   "metadata": {},
   "outputs": [
    {
     "data": {
      "text/html": [
       "<div>\n",
       "<style scoped>\n",
       "    .dataframe tbody tr th:only-of-type {\n",
       "        vertical-align: middle;\n",
       "    }\n",
       "\n",
       "    .dataframe tbody tr th {\n",
       "        vertical-align: top;\n",
       "    }\n",
       "\n",
       "    .dataframe thead th {\n",
       "        text-align: right;\n",
       "    }\n",
       "</style>\n",
       "<table border=\"1\" class=\"dataframe\">\n",
       "  <thead>\n",
       "    <tr style=\"text-align: right;\">\n",
       "      <th></th>\n",
       "      <th>tweet_id</th>\n",
       "      <th>rating_numerator</th>\n",
       "      <th>rating_denominator</th>\n",
       "    </tr>\n",
       "  </thead>\n",
       "  <tbody>\n",
       "    <tr>\n",
       "      <th>41</th>\n",
       "      <td>883482846933004288</td>\n",
       "      <td>13.5</td>\n",
       "      <td>10.0</td>\n",
       "    </tr>\n",
       "  </tbody>\n",
       "</table>\n",
       "</div>"
      ],
      "text/plain": [
       "              tweet_id  rating_numerator  rating_denominator\n",
       "41  883482846933004288              13.5                10.0"
      ]
     },
     "execution_count": 25,
     "metadata": {},
     "output_type": "execute_result"
    }
   ],
   "source": [
    "df_twitter_archive_clean[df_twitter_archive_clean['tweet_id'] == 883482846933004288].loc[:,['tweet_id','rating_numerator','rating_denominator']]"
   ]
  },
  {
   "cell_type": "markdown",
   "metadata": {},
   "source": [
    "#### 质量问题\n",
    "##### `df_twitter_archive_clean` 表格\n",
    "- tweet_id是890240255349198849的记录，stage是pup，数据记录的是doggo\n",
    "\n",
    "##### 定义\n",
    "- tweet_id是890240255349198849的记录，stage改成pupper和puppo\n",
    "\n",
    "##### 代码"
   ]
  },
  {
   "cell_type": "code",
   "execution_count": 26,
   "metadata": {},
   "outputs": [],
   "source": [
    "df_twitter_archive_clean.loc[9,'doggo'] = 'None'\n",
    "df_twitter_archive_clean.loc[9,'pupper'] = 'pupper'\n",
    "df_twitter_archive_clean.loc[9,'puppo'] = 'puppo'"
   ]
  },
  {
   "cell_type": "markdown",
   "metadata": {},
   "source": [
    "##### 测试"
   ]
  },
  {
   "cell_type": "code",
   "execution_count": 27,
   "metadata": {},
   "outputs": [
    {
     "data": {
      "text/html": [
       "<div>\n",
       "<style scoped>\n",
       "    .dataframe tbody tr th:only-of-type {\n",
       "        vertical-align: middle;\n",
       "    }\n",
       "\n",
       "    .dataframe tbody tr th {\n",
       "        vertical-align: top;\n",
       "    }\n",
       "\n",
       "    .dataframe thead th {\n",
       "        text-align: right;\n",
       "    }\n",
       "</style>\n",
       "<table border=\"1\" class=\"dataframe\">\n",
       "  <thead>\n",
       "    <tr style=\"text-align: right;\">\n",
       "      <th></th>\n",
       "      <th>tweet_id</th>\n",
       "      <th>floofer</th>\n",
       "      <th>doggo</th>\n",
       "      <th>pupper</th>\n",
       "      <th>puppo</th>\n",
       "    </tr>\n",
       "  </thead>\n",
       "  <tbody>\n",
       "    <tr>\n",
       "      <th>9</th>\n",
       "      <td>890240255349198849</td>\n",
       "      <td>None</td>\n",
       "      <td>None</td>\n",
       "      <td>pupper</td>\n",
       "      <td>puppo</td>\n",
       "    </tr>\n",
       "  </tbody>\n",
       "</table>\n",
       "</div>"
      ],
      "text/plain": [
       "             tweet_id floofer doggo  pupper  puppo\n",
       "9  890240255349198849    None  None  pupper  puppo"
      ]
     },
     "execution_count": 27,
     "metadata": {},
     "output_type": "execute_result"
    }
   ],
   "source": [
    "df_twitter_archive_clean[df_twitter_archive_clean['tweet_id'] == 890240255349198849].loc[:,['tweet_id','floofer','doggo','pupper','puppo']]"
   ]
  },
  {
   "cell_type": "markdown",
   "metadata": {},
   "source": [
    "#### 质量问题\n",
    "##### `df_twitter_archive_clean` 表格\n",
    "- 表格数据读取问题：in_reply_to_status_id，in_reply_to_user_id应该是int64，timestamp应该是datetime\n",
    "\n",
    "##### 定义\n",
    "- in_reply_to_status_id，in_reply_to_user_id中的NaN填充为0，类型改为int，timestamp改为datetime\n",
    "\n",
    "##### 代码"
   ]
  },
  {
   "cell_type": "code",
   "execution_count": 28,
   "metadata": {},
   "outputs": [],
   "source": [
    "df_twitter_archive_clean['in_reply_to_status_id'] = df_twitter_archive_clean['in_reply_to_status_id'].fillna(0).astype(int)\n",
    "df_twitter_archive_clean['timestamp'] = pd.to_datetime(df_twitter_archive_clean['timestamp'])"
   ]
  },
  {
   "cell_type": "markdown",
   "metadata": {},
   "source": [
    "##### 测试"
   ]
  },
  {
   "cell_type": "code",
   "execution_count": 29,
   "metadata": {},
   "outputs": [
    {
     "name": "stdout",
     "output_type": "stream",
     "text": [
      "datetime64[ns]\n",
      "int64\n"
     ]
    }
   ],
   "source": [
    "print(df_twitter_archive_clean['timestamp'].dtype)\n",
    "print(df_twitter_archive_clean['in_reply_to_status_id'].dtype)"
   ]
  },
  {
   "cell_type": "markdown",
   "metadata": {},
   "source": [
    "#### 质量问题\n",
    "##### `df_twitter_archive_clean` 表格\n",
    "- name有些小写的值不正确和帖子内容不符\n",
    "\n",
    "##### 定义\n",
    "- 将不正确的name改为not_provided\n",
    "\n",
    "##### 代码"
   ]
  },
  {
   "cell_type": "code",
   "execution_count": 30,
   "metadata": {},
   "outputs": [],
   "source": [
    "# 将name为小写的记录改为not_provided\n",
    "df_twitter_archive_clean['name'] = df_twitter_archive_clean['name'].apply(lambda x:x if x.istitle() else 'not_provide')"
   ]
  },
  {
   "cell_type": "markdown",
   "metadata": {},
   "source": [
    "##### 测试"
   ]
  },
  {
   "cell_type": "code",
   "execution_count": 31,
   "metadata": {},
   "outputs": [
    {
     "data": {
      "text/plain": [
       "Index(['Zara', 'Zeek', 'Zeke', 'Zeus', 'Ziva', 'Zoe', 'Zoey', 'Zooey', 'Zuzu',\n",
       "       'not_provide'],\n",
       "      dtype='object')"
      ]
     },
     "execution_count": 31,
     "metadata": {},
     "output_type": "execute_result"
    }
   ],
   "source": [
    "df_twitter_archive_clean['name'].value_counts().index.sort_values()[-10:]"
   ]
  },
  {
   "cell_type": "markdown",
   "metadata": {},
   "source": [
    "#### 质量问题\n",
    "##### `df_tweet_json` 表格\n",
    "- 表格数据读取问题：favorite_count，retweet_count，id应该是int类型\n",
    "\n",
    "##### 定义\n",
    "- 将favorite_count，retweet_count，id改为int类型\n",
    "\n",
    "##### 代码\n"
   ]
  },
  {
   "cell_type": "code",
   "execution_count": 32,
   "metadata": {},
   "outputs": [],
   "source": [
    "df_tweet_json_clean['id'] = df_tweet_json['id'].astype('int')\n",
    "df_tweet_json_clean['favorite_count'] = df_tweet_json['favorite_count'].astype('int')\n",
    "df_tweet_json_clean['retweet_count'] = df_tweet_json['retweet_count'].astype('int')"
   ]
  },
  {
   "cell_type": "markdown",
   "metadata": {},
   "source": [
    "##### 测试"
   ]
  },
  {
   "cell_type": "code",
   "execution_count": 33,
   "metadata": {},
   "outputs": [
    {
     "name": "stdout",
     "output_type": "stream",
     "text": [
      "int64\n",
      "int64\n",
      "int64\n"
     ]
    }
   ],
   "source": [
    "print(df_tweet_json_clean['favorite_count'].dtype)\n",
    "print(df_tweet_json_clean['id'].dtype)\n",
    "print(df_tweet_json_clean['retweet_count'].dtype)"
   ]
  },
  {
   "cell_type": "markdown",
   "metadata": {},
   "source": [
    "#### 整洁问题\n",
    "##### `df_tweet_json` 表格\n",
    "- 三个表都是关于评分的，应该合并成一个表格\n",
    "\n",
    "##### 定义\n",
    "- 前面已经将`df_image_predictions`表合并到`df_twitter_archive`表了\n",
    "- 用merge将`df_tweet_json`表合并到`df_twitter_archive`\n",
    "- 删除合并后`df_twitter_archive`表的id列\n",
    "\n",
    "##### 代码"
   ]
  },
  {
   "cell_type": "code",
   "execution_count": 34,
   "metadata": {},
   "outputs": [],
   "source": [
    "# 将df_tweet_json合并到df_twitter_archive\n",
    "df_twitter_archive_clean = pd.merge(df_twitter_archive_clean, df_tweet_json_clean, left_on='tweet_id', right_on='id', how='left')\n",
    "df_twitter_archive_clean.drop('id', axis=1, inplace=True)"
   ]
  },
  {
   "cell_type": "markdown",
   "metadata": {},
   "source": [
    "##### 测试"
   ]
  },
  {
   "cell_type": "code",
   "execution_count": 35,
   "metadata": {},
   "outputs": [
    {
     "name": "stdout",
     "output_type": "stream",
     "text": [
      "<class 'pandas.core.frame.DataFrame'>\n",
      "Int64Index: 1994 entries, 0 to 1993\n",
      "Data columns (total 30 columns):\n",
      "tweet_id                      1994 non-null int64\n",
      "in_reply_to_status_id         1994 non-null int64\n",
      "in_reply_to_user_id           23 non-null float64\n",
      "timestamp                     1994 non-null datetime64[ns]\n",
      "source                        1994 non-null object\n",
      "text                          1994 non-null object\n",
      "retweeted_status_id           0 non-null float64\n",
      "retweeted_status_user_id      0 non-null float64\n",
      "retweeted_status_timestamp    0 non-null object\n",
      "expanded_urls                 1994 non-null object\n",
      "name                          1994 non-null object\n",
      "doggo                         1994 non-null object\n",
      "floofer                       1994 non-null object\n",
      "pupper                        1994 non-null object\n",
      "puppo                         1994 non-null object\n",
      "jpg_url                       1994 non-null object\n",
      "img_num                       1994 non-null int64\n",
      "p1                            1994 non-null object\n",
      "p1_conf                       1994 non-null float64\n",
      "p1_dog                        1994 non-null bool\n",
      "p2                            1994 non-null object\n",
      "p2_conf                       1994 non-null float64\n",
      "p2_dog                        1994 non-null bool\n",
      "p3                            1994 non-null object\n",
      "p3_conf                       1994 non-null float64\n",
      "p3_dog                        1994 non-null bool\n",
      "rating_numerator              1994 non-null float64\n",
      "rating_denominator            1994 non-null float64\n",
      "favorite_count                1994 non-null int64\n",
      "retweet_count                 1994 non-null int64\n",
      "dtypes: bool(3), datetime64[ns](1), float64(8), int64(5), object(13)\n",
      "memory usage: 442.0+ KB\n"
     ]
    }
   ],
   "source": [
    "df_twitter_archive_clean.info()"
   ]
  },
  {
   "cell_type": "markdown",
   "metadata": {},
   "source": [
    "#### 整洁问题\n",
    "##### `df_tweet_json` 表格\n",
    "- `df_twitter_archive`表doggo，floofer，pupper，puppo应该属于一列\n",
    "\n",
    "##### 定义\n",
    "- 新建dog_stage，用来存储doggo，floofer，pupper，puppo\n",
    "- 删除原来doggo，floofer，pupper，puppo列\n",
    "- 有多个stage的记录用逗号隔开，没有用not_provided\n",
    "\n",
    "##### 代码"
   ]
  },
  {
   "cell_type": "code",
   "execution_count": 36,
   "metadata": {},
   "outputs": [],
   "source": [
    "# 有多个stage的记录用逗号隔开，没有用not_provided\n",
    "tmp = df_twitter_archive_clean\n",
    "tmp = pd.melt(tmp, id_vars=['tweet_id'], value_vars=['doggo','floofer','pupper','puppo'], var_name='myvar_name', value_name='dog_stage')\n",
    "tmp = tmp.groupby('tweet_id')['dog_stage'].sum().str.findall(r'(doggo|floof|pupper|puppo)').apply(lambda x: ','.join(x) if x else 'not_provided')\n",
    "tmp = pd.DataFrame(tmp)\n",
    "df_twitter_archive_clean = pd.merge(df_twitter_archive_clean, tmp, on='tweet_id')\n",
    "df_twitter_archive_clean = df_twitter_archive_clean.drop(['doggo','floofer','pupper','puppo'], axis=1)"
   ]
  },
  {
   "cell_type": "markdown",
   "metadata": {},
   "source": [
    "##### 测试"
   ]
  },
  {
   "cell_type": "code",
   "execution_count": 37,
   "metadata": {},
   "outputs": [
    {
     "data": {
      "text/plain": [
       "not_provided    1688\n",
       "pupper           203\n",
       "doggo             62\n",
       "puppo             22\n",
       "doggo,pupper       9\n",
       "floof              7\n",
       "doggo,puppo        1\n",
       "pupper,puppo       1\n",
       "doggo,floof        1\n",
       "Name: dog_stage, dtype: int64"
      ]
     },
     "execution_count": 37,
     "metadata": {},
     "output_type": "execute_result"
    }
   ],
   "source": [
    "df_twitter_archive_clean['dog_stage'].value_counts()"
   ]
  },
  {
   "cell_type": "markdown",
   "metadata": {},
   "source": [
    "## 重新评估"
   ]
  },
  {
   "cell_type": "code",
   "execution_count": 38,
   "metadata": {},
   "outputs": [
    {
     "name": "stdout",
     "output_type": "stream",
     "text": [
      "<class 'pandas.core.frame.DataFrame'>\n",
      "Int64Index: 1994 entries, 0 to 1993\n",
      "Data columns (total 27 columns):\n",
      "tweet_id                      1994 non-null int64\n",
      "in_reply_to_status_id         1994 non-null int64\n",
      "in_reply_to_user_id           23 non-null float64\n",
      "timestamp                     1994 non-null datetime64[ns]\n",
      "source                        1994 non-null object\n",
      "text                          1994 non-null object\n",
      "retweeted_status_id           0 non-null float64\n",
      "retweeted_status_user_id      0 non-null float64\n",
      "retweeted_status_timestamp    0 non-null object\n",
      "expanded_urls                 1994 non-null object\n",
      "name                          1994 non-null object\n",
      "jpg_url                       1994 non-null object\n",
      "img_num                       1994 non-null int64\n",
      "p1                            1994 non-null object\n",
      "p1_conf                       1994 non-null float64\n",
      "p1_dog                        1994 non-null bool\n",
      "p2                            1994 non-null object\n",
      "p2_conf                       1994 non-null float64\n",
      "p2_dog                        1994 non-null bool\n",
      "p3                            1994 non-null object\n",
      "p3_conf                       1994 non-null float64\n",
      "p3_dog                        1994 non-null bool\n",
      "rating_numerator              1994 non-null float64\n",
      "rating_denominator            1994 non-null float64\n",
      "favorite_count                1994 non-null int64\n",
      "retweet_count                 1994 non-null int64\n",
      "dog_stage                     1994 non-null object\n",
      "dtypes: bool(3), datetime64[ns](1), float64(8), int64(5), object(10)\n",
      "memory usage: 395.3+ KB\n"
     ]
    }
   ],
   "source": [
    "df_twitter_archive_clean.info()"
   ]
  },
  {
   "cell_type": "code",
   "execution_count": 39,
   "metadata": {},
   "outputs": [
    {
     "data": {
      "text/html": [
       "<div>\n",
       "<style scoped>\n",
       "    .dataframe tbody tr th:only-of-type {\n",
       "        vertical-align: middle;\n",
       "    }\n",
       "\n",
       "    .dataframe tbody tr th {\n",
       "        vertical-align: top;\n",
       "    }\n",
       "\n",
       "    .dataframe thead th {\n",
       "        text-align: right;\n",
       "    }\n",
       "</style>\n",
       "<table border=\"1\" class=\"dataframe\">\n",
       "  <thead>\n",
       "    <tr style=\"text-align: right;\">\n",
       "      <th></th>\n",
       "      <th>tweet_id</th>\n",
       "      <th>dog_stage</th>\n",
       "    </tr>\n",
       "  </thead>\n",
       "  <tbody>\n",
       "    <tr>\n",
       "      <th>9</th>\n",
       "      <td>890240255349198849</td>\n",
       "      <td>pupper,puppo</td>\n",
       "    </tr>\n",
       "    <tr>\n",
       "      <th>148</th>\n",
       "      <td>855851453814013952</td>\n",
       "      <td>doggo,puppo</td>\n",
       "    </tr>\n",
       "    <tr>\n",
       "      <th>154</th>\n",
       "      <td>854010172552949760</td>\n",
       "      <td>doggo,floof</td>\n",
       "    </tr>\n",
       "    <tr>\n",
       "      <th>340</th>\n",
       "      <td>817777686764523521</td>\n",
       "      <td>doggo,pupper</td>\n",
       "    </tr>\n",
       "    <tr>\n",
       "      <th>397</th>\n",
       "      <td>808106460588765185</td>\n",
       "      <td>doggo,pupper</td>\n",
       "    </tr>\n",
       "    <tr>\n",
       "      <th>419</th>\n",
       "      <td>802265048156610565</td>\n",
       "      <td>doggo,pupper</td>\n",
       "    </tr>\n",
       "    <tr>\n",
       "      <th>425</th>\n",
       "      <td>801115127852503040</td>\n",
       "      <td>doggo,pupper</td>\n",
       "    </tr>\n",
       "    <tr>\n",
       "      <th>510</th>\n",
       "      <td>785639753186217984</td>\n",
       "      <td>doggo,pupper</td>\n",
       "    </tr>\n",
       "    <tr>\n",
       "      <th>652</th>\n",
       "      <td>759793422261743616</td>\n",
       "      <td>doggo,pupper</td>\n",
       "    </tr>\n",
       "    <tr>\n",
       "      <th>704</th>\n",
       "      <td>751583847268179968</td>\n",
       "      <td>doggo,pupper</td>\n",
       "    </tr>\n",
       "    <tr>\n",
       "      <th>795</th>\n",
       "      <td>741067306818797568</td>\n",
       "      <td>doggo,pupper</td>\n",
       "    </tr>\n",
       "    <tr>\n",
       "      <th>841</th>\n",
       "      <td>733109485275860992</td>\n",
       "      <td>doggo,pupper</td>\n",
       "    </tr>\n",
       "  </tbody>\n",
       "</table>\n",
       "</div>"
      ],
      "text/plain": [
       "               tweet_id     dog_stage\n",
       "9    890240255349198849  pupper,puppo\n",
       "148  855851453814013952   doggo,puppo\n",
       "154  854010172552949760   doggo,floof\n",
       "340  817777686764523521  doggo,pupper\n",
       "397  808106460588765185  doggo,pupper\n",
       "419  802265048156610565  doggo,pupper\n",
       "425  801115127852503040  doggo,pupper\n",
       "510  785639753186217984  doggo,pupper\n",
       "652  759793422261743616  doggo,pupper\n",
       "704  751583847268179968  doggo,pupper\n",
       "795  741067306818797568  doggo,pupper\n",
       "841  733109485275860992  doggo,pupper"
      ]
     },
     "execution_count": 39,
     "metadata": {},
     "output_type": "execute_result"
    }
   ],
   "source": [
    "# 有多个dog_stage的记录\n",
    "df_twitter_archive_clean[df_twitter_archive_clean['dog_stage'].str.contains(',')][['tweet_id','dog_stage']]"
   ]
  },
  {
   "cell_type": "code",
   "execution_count": 40,
   "metadata": {},
   "outputs": [
    {
     "data": {
      "text/plain": [
       "\"Please stop sending it pictures that don't even have a doggo or pupper in them. Churlish af. 5/10 neat couch tho https://t.co/u2c9c7qSg8\""
      ]
     },
     "execution_count": 40,
     "metadata": {},
     "output_type": "execute_result"
    }
   ],
   "source": [
    "# tweet_id是751583847268179968的帖子，dog_stage是doggo,pupper，text中没有提供dog_stage\n",
    "df_twitter_archive[df_twitter_archive['tweet_id'] == 751583847268179968]['text'].iloc[0]"
   ]
  },
  {
   "cell_type": "markdown",
   "metadata": {},
   "source": [
    "#### 质量\n",
    "##### `df_twitter_archive` 表格\n",
    "- tweet_id为751583847268179968的记录dog_stage应该是not_provided\n",
    "- retweeted_status_id，retweeted_status_user_id，retweeted_status_timestamp列无数据\n",
    "- 合并后的`df_twitter_archive`表存在多个预测数据\n",
    "\n",
    "#### 整洁问题\n",
    "- 无\n",
    "\n",
    "\n",
    "## 清理"
   ]
  },
  {
   "cell_type": "markdown",
   "metadata": {},
   "source": [
    "#### 质量问题\n",
    "##### `df_twitter_archive` 表格\n",
    "- tweet_id为751583847268179968的记录dog_stage应该是not_provided\n",
    "\n",
    "##### 定义\n",
    "- 将tweet_id为751583847268179968的记录(索引号704)dog_stage改为not_provided\n",
    "\n",
    "##### 代码"
   ]
  },
  {
   "cell_type": "code",
   "execution_count": 41,
   "metadata": {},
   "outputs": [],
   "source": [
    "# 索引为704的记录dog_stage改为not_provided\n",
    "df_twitter_archive_clean.loc[704,'dog_stage'] = 'not_provided'"
   ]
  },
  {
   "cell_type": "markdown",
   "metadata": {},
   "source": [
    "##### 测试"
   ]
  },
  {
   "cell_type": "code",
   "execution_count": 42,
   "metadata": {},
   "outputs": [
    {
     "data": {
      "text/plain": [
       "704    not_provided\n",
       "Name: dog_stage, dtype: object"
      ]
     },
     "execution_count": 42,
     "metadata": {},
     "output_type": "execute_result"
    }
   ],
   "source": [
    "# 查看twteed_id为751583847268179968记录的dog_stage\n",
    "df_twitter_archive_clean[df_twitter_archive_clean['tweet_id'] == 751583847268179968]['dog_stage']"
   ]
  },
  {
   "cell_type": "markdown",
   "metadata": {},
   "source": [
    "#### 质量问题\n",
    "##### `df_twitter_archive` 表格\n",
    "- in_reply_to_status_id，in_reply_to_user_id，timestamp列无数据\n",
    "- 合并后的df_twitter_archive表存在多个预测数据，\n",
    "\n",
    "##### 定义\n",
    "- 删除in_reply_to_status_id，in_reply_to_user_id，timestamp列\n",
    "- 删除p2，p2_conf，p2_dog，p3，p3_conf，p3_dog列\n",
    "\n",
    "##### 代码"
   ]
  },
  {
   "cell_type": "code",
   "execution_count": 43,
   "metadata": {},
   "outputs": [],
   "source": [
    "# 删除df_twitter_archive中没用的列\n",
    "df_twitter_archive_clean = df_twitter_archive_clean.drop(['retweeted_status_id','retweeted_status_user_id','retweeted_status_timestamp'], axis=1)\n",
    "df_twitter_archive_clean = df_twitter_archive_clean.drop(['p2','p2_conf','p2_dog','p3','p3_conf','p3_dog'],axis=1)"
   ]
  },
  {
   "cell_type": "markdown",
   "metadata": {},
   "source": [
    "##### 测试"
   ]
  },
  {
   "cell_type": "code",
   "execution_count": 44,
   "metadata": {},
   "outputs": [
    {
     "name": "stdout",
     "output_type": "stream",
     "text": [
      "<class 'pandas.core.frame.DataFrame'>\n",
      "Int64Index: 1994 entries, 0 to 1993\n",
      "Data columns (total 18 columns):\n",
      "tweet_id                 1994 non-null int64\n",
      "in_reply_to_status_id    1994 non-null int64\n",
      "in_reply_to_user_id      23 non-null float64\n",
      "timestamp                1994 non-null datetime64[ns]\n",
      "source                   1994 non-null object\n",
      "text                     1994 non-null object\n",
      "expanded_urls            1994 non-null object\n",
      "name                     1994 non-null object\n",
      "jpg_url                  1994 non-null object\n",
      "img_num                  1994 non-null int64\n",
      "p1                       1994 non-null object\n",
      "p1_conf                  1994 non-null float64\n",
      "p1_dog                   1994 non-null bool\n",
      "rating_numerator         1994 non-null float64\n",
      "rating_denominator       1994 non-null float64\n",
      "favorite_count           1994 non-null int64\n",
      "retweet_count            1994 non-null int64\n",
      "dog_stage                1994 non-null object\n",
      "dtypes: bool(1), datetime64[ns](1), float64(4), int64(5), object(7)\n",
      "memory usage: 362.4+ KB\n"
     ]
    }
   ],
   "source": [
    "df_twitter_archive_clean.info()"
   ]
  },
  {
   "cell_type": "markdown",
   "metadata": {},
   "source": [
    "### 存储清理后的主数据集"
   ]
  },
  {
   "cell_type": "code",
   "execution_count": 45,
   "metadata": {},
   "outputs": [],
   "source": [
    "# 将清理后的主数据集保存为 csv 文件或者 SQLite 数据库文件\n",
    "df_twitter_archive_clean.to_csv('twitter_archive_master.csv', index=False)"
   ]
  },
  {
   "cell_type": "markdown",
   "metadata": {},
   "source": [
    "## 分析和可视化"
   ]
  },
  {
   "cell_type": "markdown",
   "metadata": {},
   "source": [
    "#### 评分最高的狗名字是什么？"
   ]
  },
  {
   "cell_type": "code",
   "execution_count": 46,
   "metadata": {},
   "outputs": [
    {
     "data": {
      "text/plain": [
       "726    Atticus\n",
       "Name: name, dtype: object"
      ]
     },
     "execution_count": 46,
     "metadata": {},
     "output_type": "execute_result"
    }
   ],
   "source": [
    "# 还是 Atticus\n",
    "df_twitter_archive_clean['score'] = df_twitter_archive_clean['rating_numerator'] / df_twitter_archive_clean['rating_denominator']\n",
    "highest_score_name = df_twitter_archive_clean[df_twitter_archive_clean['score'] == df_twitter_archive_clean['score'].max()]['name']\n",
    "highest_score_name"
   ]
  },
  {
   "cell_type": "markdown",
   "metadata": {},
   "source": [
    "#### @dog_rates的帖子转发量如何？"
   ]
  },
  {
   "cell_type": "code",
   "execution_count": 47,
   "metadata": {},
   "outputs": [
    {
     "data": {
      "text/plain": [
       "count     1994.000000\n",
       "mean      2770.021063\n",
       "std       4715.961325\n",
       "min         15.000000\n",
       "25%        622.250000\n",
       "50%       1348.500000\n",
       "75%       3202.750000\n",
       "max      79116.000000\n",
       "Name: retweet_count, dtype: float64"
      ]
     },
     "execution_count": 47,
     "metadata": {},
     "output_type": "execute_result"
    }
   ],
   "source": [
    "df_twitter_archive_clean['retweet_count'].describe()"
   ]
  },
  {
   "cell_type": "code",
   "execution_count": 48,
   "metadata": {},
   "outputs": [
    {
     "data": {
      "image/png": "[encoded data removed]",
      "text/plain": [
       "<matplotlib.figure.Figure at 0x7f4f34c6cd30>"
      ]
     },
     "metadata": {
      "needs_background": "light"
     },
     "output_type": "display_data"
    }
   ],
   "source": [
    "# 大多数帖子转发量在0-2000\n",
    "bin_edges = np.arange(0, df_twitter_archive_clean['retweet_count'].max()+2000, 2000)\n",
    "df_twitter_archive_clean['retweet_count'].hist(bins=bin_edges);\n",
    "plt.ylabel('number')\n",
    "plt.xlabel('retweet_count')\n",
    "plt.title(\"@dog_rates's retweet count\");"
   ]
  },
  {
   "cell_type": "markdown",
   "metadata": {},
   "source": [
    "#### 点赞量和转发量是否有关系？"
   ]
  },
  {
   "cell_type": "code",
   "execution_count": 49,
   "metadata": {},
   "outputs": [
    {
     "name": "stdout",
     "output_type": "stream",
     "text": [
      "相关系数： [[ 1.          0.91502202]\n",
      " [ 0.91502202  1.        ]]\n"
     ]
    },
    {
     "data": {
      "image/png": "[encoded data removed]",
      "text/plain": [
       "<matplotlib.figure.Figure at 0x7f4f34c6c128>"
      ]
     },
     "metadata": {
      "needs_background": "light"
     },
     "output_type": "display_data"
    }
   ],
   "source": [
    "# 相关系数是0.91312546 强正相关\n",
    "print(\"相关系数：\",np.corrcoef(df_twitter_archive_clean['retweet_count'], df_twitter_archive_clean['favorite_count']))\n",
    "plt.scatter(x = df_twitter_archive_clean['retweet_count'], y = df_twitter_archive_clean['favorite_count'])\n",
    "plt.ylabel('favorite_count')\n",
    "plt.xlabel('retweet_count')\n",
    "plt.title('Correlation between retweet and favorite');"
   ]
  },
  {
   "cell_type": "code",
   "execution_count": null,
   "metadata": {},
   "outputs": [],
   "source": []
  }
 ],
 "metadata": {
  "kernelspec": {
   "display_name": "Python 3",
   "language": "python",
   "name": "python3"
  },
  "language_info": {
   "codemirror_mode": {
    "name": "ipython",
    "version": 3
   },
   "file_extension": ".py",
   "mimetype": "text/x-python",
   "name": "python",
   "nbconvert_exporter": "python",
   "pygments_lexer": "ipython3",
   "version": "3.6.3"
  }
 },
 "nbformat": 4,
 "nbformat_minor": 2
}
